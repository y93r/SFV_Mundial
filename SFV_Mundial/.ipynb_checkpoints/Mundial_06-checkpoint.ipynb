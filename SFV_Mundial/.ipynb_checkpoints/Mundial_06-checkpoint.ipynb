{
 "cells": [
  {
   "cell_type": "code",
   "execution_count": 1,
   "id": "1c038fab",
   "metadata": {},
   "outputs": [
    {
     "data": {
      "text/html": [
       "<div>\n",
       "<style scoped>\n",
       "    .dataframe tbody tr th:only-of-type {\n",
       "        vertical-align: middle;\n",
       "    }\n",
       "\n",
       "    .dataframe tbody tr th {\n",
       "        vertical-align: top;\n",
       "    }\n",
       "\n",
       "    .dataframe thead th {\n",
       "        text-align: right;\n",
       "    }\n",
       "</style>\n",
       "<table border=\"1\" class=\"dataframe\">\n",
       "  <thead>\n",
       "    <tr style=\"text-align: right;\">\n",
       "      <th></th>\n",
       "      <th>Nº</th>\n",
       "      <th>NOME</th>\n",
       "      <th>IDADE</th>\n",
       "      <th>ALTURA</th>\n",
       "      <th>POSIÇÃO</th>\n",
       "    </tr>\n",
       "  </thead>\n",
       "  <tbody>\n",
       "    <tr>\n",
       "      <th>0</th>\n",
       "      <td>1</td>\n",
       "      <td>Walewska</td>\n",
       "      <td>27</td>\n",
       "      <td>1.90</td>\n",
       "      <td>Meio de rede</td>\n",
       "    </tr>\n",
       "    <tr>\n",
       "      <th>1</th>\n",
       "      <td>2</td>\n",
       "      <td>Carol Albuquerque</td>\n",
       "      <td>29</td>\n",
       "      <td>1.82</td>\n",
       "      <td>Levantadora</td>\n",
       "    </tr>\n",
       "    <tr>\n",
       "      <th>2</th>\n",
       "      <td>3</td>\n",
       "      <td>Mari</td>\n",
       "      <td>23</td>\n",
       "      <td>1.88</td>\n",
       "      <td>Ponteira</td>\n",
       "    </tr>\n",
       "    <tr>\n",
       "      <th>3</th>\n",
       "      <td>4</td>\n",
       "      <td>Paula</td>\n",
       "      <td>24</td>\n",
       "      <td>1.84</td>\n",
       "      <td>Ponteira</td>\n",
       "    </tr>\n",
       "    <tr>\n",
       "      <th>4</th>\n",
       "      <td>5</td>\n",
       "      <td>Carol Gattaz</td>\n",
       "      <td>25</td>\n",
       "      <td>1.92</td>\n",
       "      <td>Meio de rede</td>\n",
       "    </tr>\n",
       "    <tr>\n",
       "      <th>5</th>\n",
       "      <td>7</td>\n",
       "      <td>Fofão</td>\n",
       "      <td>36</td>\n",
       "      <td>1.73</td>\n",
       "      <td>Levantadora</td>\n",
       "    </tr>\n",
       "    <tr>\n",
       "      <th>6</th>\n",
       "      <td>9</td>\n",
       "      <td>Fabiana</td>\n",
       "      <td>21</td>\n",
       "      <td>1.93</td>\n",
       "      <td>Meio de rede</td>\n",
       "    </tr>\n",
       "    <tr>\n",
       "      <th>7</th>\n",
       "      <td>10</td>\n",
       "      <td>Sassá</td>\n",
       "      <td>24</td>\n",
       "      <td>1.79</td>\n",
       "      <td>Ponteira</td>\n",
       "    </tr>\n",
       "    <tr>\n",
       "      <th>8</th>\n",
       "      <td>12</td>\n",
       "      <td>Jaque</td>\n",
       "      <td>22</td>\n",
       "      <td>1.86</td>\n",
       "      <td>Ponteira</td>\n",
       "    </tr>\n",
       "    <tr>\n",
       "      <th>9</th>\n",
       "      <td>13</td>\n",
       "      <td>Sheilla</td>\n",
       "      <td>23</td>\n",
       "      <td>1.85</td>\n",
       "      <td>Oposto</td>\n",
       "    </tr>\n",
       "    <tr>\n",
       "      <th>10</th>\n",
       "      <td>14</td>\n",
       "      <td>Fabí</td>\n",
       "      <td>26</td>\n",
       "      <td>1.69</td>\n",
       "      <td>Líbero</td>\n",
       "    </tr>\n",
       "    <tr>\n",
       "      <th>11</th>\n",
       "      <td>17</td>\n",
       "      <td>Renatinha</td>\n",
       "      <td>25</td>\n",
       "      <td>1.81</td>\n",
       "      <td>Oposto</td>\n",
       "    </tr>\n",
       "  </tbody>\n",
       "</table>\n",
       "</div>"
      ],
      "text/plain": [
       "    Nº               NOME  IDADE  ALTURA       POSIÇÃO\n",
       "0    1           Walewska     27    1.90  Meio de rede\n",
       "1    2  Carol Albuquerque     29    1.82   Levantadora\n",
       "2    3               Mari     23    1.88      Ponteira\n",
       "3    4              Paula     24    1.84      Ponteira\n",
       "4    5       Carol Gattaz     25    1.92  Meio de rede\n",
       "5    7              Fofão     36    1.73   Levantadora\n",
       "6    9            Fabiana     21    1.93  Meio de rede\n",
       "7   10              Sassá     24    1.79      Ponteira\n",
       "8   12              Jaque     22    1.86      Ponteira\n",
       "9   13            Sheilla     23    1.85        Oposto\n",
       "10  14               Fabí     26    1.69        Líbero\n",
       "11  17          Renatinha     25    1.81        Oposto"
      ]
     },
     "metadata": {},
     "output_type": "display_data"
    },
    {
     "data": {
      "text/html": [
       "<div>\n",
       "<style scoped>\n",
       "    .dataframe tbody tr th:only-of-type {\n",
       "        vertical-align: middle;\n",
       "    }\n",
       "\n",
       "    .dataframe tbody tr th {\n",
       "        vertical-align: top;\n",
       "    }\n",
       "\n",
       "    .dataframe thead th {\n",
       "        text-align: right;\n",
       "    }\n",
       "</style>\n",
       "<table border=\"1\" class=\"dataframe\">\n",
       "  <thead>\n",
       "    <tr style=\"text-align: right;\">\n",
       "      <th></th>\n",
       "      <th>Nº</th>\n",
       "      <th>NOME</th>\n",
       "      <th>IDADE</th>\n",
       "      <th>ALTURA</th>\n",
       "      <th>POSIÇÃO</th>\n",
       "    </tr>\n",
       "  </thead>\n",
       "  <tbody>\n",
       "    <tr>\n",
       "      <th>0</th>\n",
       "      <td>1</td>\n",
       "      <td>Fabiana</td>\n",
       "      <td>25</td>\n",
       "      <td>1.93</td>\n",
       "      <td>Meio de rede</td>\n",
       "    </tr>\n",
       "    <tr>\n",
       "      <th>1</th>\n",
       "      <td>2</td>\n",
       "      <td>Carol Gattaz</td>\n",
       "      <td>29</td>\n",
       "      <td>1.92</td>\n",
       "      <td>Meio de rede</td>\n",
       "    </tr>\n",
       "    <tr>\n",
       "      <th>2</th>\n",
       "      <td>3</td>\n",
       "      <td>Dani Lins</td>\n",
       "      <td>25</td>\n",
       "      <td>1.81</td>\n",
       "      <td>Levantadora</td>\n",
       "    </tr>\n",
       "    <tr>\n",
       "      <th>3</th>\n",
       "      <td>5</td>\n",
       "      <td>Adenizia</td>\n",
       "      <td>23</td>\n",
       "      <td>1.85</td>\n",
       "      <td>Meio de rede</td>\n",
       "    </tr>\n",
       "    <tr>\n",
       "      <th>4</th>\n",
       "      <td>6</td>\n",
       "      <td>Thaisa</td>\n",
       "      <td>23</td>\n",
       "      <td>1.96</td>\n",
       "      <td>Meio de rede</td>\n",
       "    </tr>\n",
       "    <tr>\n",
       "      <th>5</th>\n",
       "      <td>8</td>\n",
       "      <td>Jaque</td>\n",
       "      <td>26</td>\n",
       "      <td>1.86</td>\n",
       "      <td>Ponteira</td>\n",
       "    </tr>\n",
       "    <tr>\n",
       "      <th>6</th>\n",
       "      <td>10</td>\n",
       "      <td>Sassá</td>\n",
       "      <td>28</td>\n",
       "      <td>1.79</td>\n",
       "      <td>Ponteira</td>\n",
       "    </tr>\n",
       "    <tr>\n",
       "      <th>7</th>\n",
       "      <td>11</td>\n",
       "      <td>Joyce</td>\n",
       "      <td>26</td>\n",
       "      <td>1.90</td>\n",
       "      <td>Oposto</td>\n",
       "    </tr>\n",
       "    <tr>\n",
       "      <th>8</th>\n",
       "      <td>12</td>\n",
       "      <td>Natália</td>\n",
       "      <td>21</td>\n",
       "      <td>1.86</td>\n",
       "      <td>Ponteira</td>\n",
       "    </tr>\n",
       "    <tr>\n",
       "      <th>9</th>\n",
       "      <td>13</td>\n",
       "      <td>Sheilla</td>\n",
       "      <td>27</td>\n",
       "      <td>1.85</td>\n",
       "      <td>Oposto</td>\n",
       "    </tr>\n",
       "    <tr>\n",
       "      <th>10</th>\n",
       "      <td>14</td>\n",
       "      <td>Fabí</td>\n",
       "      <td>30</td>\n",
       "      <td>1.69</td>\n",
       "      <td>Líbero</td>\n",
       "    </tr>\n",
       "    <tr>\n",
       "      <th>11</th>\n",
       "      <td>16</td>\n",
       "      <td>Fê Garay</td>\n",
       "      <td>24</td>\n",
       "      <td>1.79</td>\n",
       "      <td>Ponteira</td>\n",
       "    </tr>\n",
       "    <tr>\n",
       "      <th>12</th>\n",
       "      <td>17</td>\n",
       "      <td>Fabíola</td>\n",
       "      <td>27</td>\n",
       "      <td>1.84</td>\n",
       "      <td>Levantadora</td>\n",
       "    </tr>\n",
       "    <tr>\n",
       "      <th>13</th>\n",
       "      <td>18</td>\n",
       "      <td>C. Brait</td>\n",
       "      <td>22</td>\n",
       "      <td>1.70</td>\n",
       "      <td>Líbero</td>\n",
       "    </tr>\n",
       "  </tbody>\n",
       "</table>\n",
       "</div>"
      ],
      "text/plain": [
       "    Nº          NOME  IDADE  ALTURA       POSIÇÃO\n",
       "0    1       Fabiana     25    1.93  Meio de rede\n",
       "1    2  Carol Gattaz     29    1.92  Meio de rede\n",
       "2    3     Dani Lins     25    1.81   Levantadora\n",
       "3    5      Adenizia     23    1.85  Meio de rede\n",
       "4    6        Thaisa     23    1.96  Meio de rede\n",
       "5    8         Jaque     26    1.86      Ponteira\n",
       "6   10         Sassá     28    1.79      Ponteira\n",
       "7   11         Joyce     26    1.90        Oposto\n",
       "8   12       Natália     21    1.86      Ponteira\n",
       "9   13       Sheilla     27    1.85        Oposto\n",
       "10  14          Fabí     30    1.69        Líbero\n",
       "11  16      Fê Garay     24    1.79      Ponteira\n",
       "12  17       Fabíola     27    1.84   Levantadora\n",
       "13  18      C. Brait     22    1.70        Líbero"
      ]
     },
     "metadata": {},
     "output_type": "display_data"
    }
   ],
   "source": [
    "import pandas as pd\n",
    "import numpy as np\n",
    "\n",
    "#arquivo csv é necessário fazer algun tratamentos: \n",
    "#primeiro separador de colunas é ','; \n",
    "#descobrir o encoding; \n",
    "#trocar a ',' na coluna altura por '.'\n",
    "#tirar o espaço da coluna \"AlTURA\"\n",
    "mundial_06 = pd.read_csv(r'Mundial 2006.csv',sep= ',',encoding='latin1',skipinitialspace = True, thousands = '.', decimal = ',', dtype ={'ALTURA':np.float64})\n",
    "display(mundial_06)"
   ]
  },
  {
   "cell_type": "code",
   "execution_count": 2,
   "id": "757b0a00",
   "metadata": {},
   "outputs": [
    {
     "name": "stdout",
     "output_type": "stream",
     "text": [
      "<class 'pandas.core.frame.DataFrame'>\n",
      "RangeIndex: 12 entries, 0 to 11\n",
      "Data columns (total 5 columns):\n",
      " #   Column   Non-Null Count  Dtype  \n",
      "---  ------   --------------  -----  \n",
      " 0   Nº       12 non-null     int64  \n",
      " 1   NOME     12 non-null     object \n",
      " 2   IDADE    12 non-null     int64  \n",
      " 3   ALTURA   12 non-null     float64\n",
      " 4   POSIÇÃO  12 non-null     object \n",
      "dtypes: float64(1), int64(2), object(2)\n",
      "memory usage: 608.0+ bytes\n"
     ]
    }
   ],
   "source": [
    "mundial_06.info()"
   ]
  },
  {
   "cell_type": "code",
   "execution_count": 10,
   "id": "fe27ce22",
   "metadata": {},
   "outputs": [
    {
     "data": {
      "text/plain": [
       "Text(0.5, 1.0, 'Mundial 2006 - Altura')"
      ]
     },
     "execution_count": 10,
     "metadata": {},
     "output_type": "execute_result"
    },
    {
     "data": {
      "image/png": "[encoded data removed]",
      "text/plain": [
       "<Figure size 1500x500 with 1 Axes>"
      ]
     },
     "metadata": {},
     "output_type": "display_data"
    },
    {
     "data": {
      "image/png": "[encoded data removed]",
      "text/plain": [
       "<Figure size 1500x500 with 1 Axes>"
      ]
     },
     "metadata": {},
     "output_type": "display_data"
    }
   ],
   "source": [
    "#contagem de idade e altura\n",
    "import matplotlib.pyplot as plt\n",
    "\n",
    "plt.figure(figsize=(15,5))\n",
    "mundial_06['IDADE'].hist(bins=7, rwidth=0.50, color=\"darkblue\")\n",
    "plt.xlim(17,40) \n",
    "plt.ylim(0,5)\n",
    "plt.title(\"Mundial 2006 - Idade\", fontsize = 16)\n",
    "\n",
    "plt.figure(figsize=(15,5))\n",
    "mundial_06['ALTURA'].hist(bins=7, rwidth=0.90, color=\"purple\")\n",
    "plt.xlim(1.65,1.95) \n",
    "plt.ylim(0,7)\n",
    "plt.title(\"Mundial 2006 - Altura\", fontsize = 16)"
   ]
  },
  {
   "cell_type": "code",
   "execution_count": 25,
   "id": "be47ea81",
   "metadata": {},
   "outputs": [
    {
     "data": {
      "text/plain": [
       "Ponteira        4\n",
       "Meio de rede    3\n",
       "Levantadora     2\n",
       "Oposto          2\n",
       "Líbero          1\n",
       "Name: POSIÇÃO, dtype: int64"
      ]
     },
     "execution_count": 25,
     "metadata": {},
     "output_type": "execute_result"
    }
   ],
   "source": [
    "##qtde por posição\n",
    "mundial_06['POSIÇÃO'].value_counts()"
   ]
  },
  {
   "cell_type": "code",
   "execution_count": 45,
   "id": "e8bdcd7e",
   "metadata": {},
   "outputs": [
    {
     "data": {
      "text/plain": [
       "1.835"
      ]
     },
     "execution_count": 45,
     "metadata": {},
     "output_type": "execute_result"
    }
   ],
   "source": [
    "#média de altura\n",
    "mundial_06['ALTURA'].mean()\n"
   ]
  },
  {
   "cell_type": "code",
   "execution_count": 39,
   "id": "429e28f2",
   "metadata": {},
   "outputs": [
    {
     "data": {
      "text/plain": [
       "25.416666666666668"
      ]
     },
     "execution_count": 39,
     "metadata": {},
     "output_type": "execute_result"
    }
   ],
   "source": [
    "#média de idade\n",
    "mundial_06['IDADE'].mean()"
   ]
  },
  {
   "cell_type": "code",
   "execution_count": 30,
   "id": "e8e60671",
   "metadata": {},
   "outputs": [
    {
     "data": {
      "text/plain": [
       "POSIÇÃO\n",
       "Meio de rede    1.92\n",
       "Ponteira        1.84\n",
       "Oposto          1.83\n",
       "Levantadora     1.78\n",
       "Líbero          1.69\n",
       "Name: ALTURA, dtype: float64"
      ]
     },
     "execution_count": 30,
     "metadata": {},
     "output_type": "execute_result"
    }
   ],
   "source": [
    "#média de altura por posição\n",
    "mundial_06.groupby('POSIÇÃO')['ALTURA'].mean().sort_values(ascending=False).round(2)"
   ]
  },
  {
   "cell_type": "code",
   "execution_count": 31,
   "id": "74691272",
   "metadata": {},
   "outputs": [
    {
     "data": {
      "text/plain": [
       "POSIÇÃO\n",
       "Levantadora     32.50\n",
       "Líbero          26.00\n",
       "Meio de rede    24.33\n",
       "Oposto          24.00\n",
       "Ponteira        23.25\n",
       "Name: IDADE, dtype: float64"
      ]
     },
     "execution_count": 31,
     "metadata": {},
     "output_type": "execute_result"
    }
   ],
   "source": [
    "#média de idade por posição\n",
    "mundial_06.groupby('POSIÇÃO')['IDADE'].mean().sort_values(ascending=False).round(2)"
   ]
  },
  {
   "cell_type": "code",
   "execution_count": 24,
   "id": "9122589f",
   "metadata": {},
   "outputs": [
    {
     "data": {
      "text/plain": [
       "(20.0, 34.0)"
      ]
     },
     "execution_count": 24,
     "metadata": {},
     "output_type": "execute_result"
    },
    {
     "data": {
      "image/png": "[encoded data removed]",
      "text/plain": [
       "<Figure size 640x480 with 1 Axes>"
      ]
     },
     "metadata": {},
     "output_type": "display_data"
    }
   ],
   "source": [
    "import seaborn as sns\n",
    "\n",
    "#média de idade por posição\n",
    "mundial_06.groupby('POSIÇÃO')['IDADE'].mean()\n",
    "media_idade = sns.barplot(x='POSIÇÃO', y='IDADE', data=mundial_06, ci=None)\n",
    "media_idade.set_ylim(20,34)"
   ]
  },
  {
   "cell_type": "code",
   "execution_count": 25,
   "id": "db82d093",
   "metadata": {},
   "outputs": [
    {
     "data": {
      "text/plain": [
       "(1.6, 1.95)"
      ]
     },
     "execution_count": 25,
     "metadata": {},
     "output_type": "execute_result"
    },
    {
     "data": {
      "image/png": "[encoded data removed]",
      "text/plain": [
       "<Figure size 640x480 with 1 Axes>"
      ]
     },
     "metadata": {},
     "output_type": "display_data"
    }
   ],
   "source": [
    "#média de altura por posição\n",
    "mundial_06.groupby('POSIÇÃO')['ALTURA'].mean()\n",
    "media_altura = sns.barplot(x='POSIÇÃO', y='ALTURA', data=mundial_06, ci=None)\n",
    "media_altura.set_ylim(1.60, 1.95)"
   ]
  },
  {
   "cell_type": "code",
   "execution_count": 11,
   "id": "a22fd9c4",
   "metadata": {},
   "outputs": [
    {
     "data": {
      "text/html": [
       "<div>\n",
       "<style scoped>\n",
       "    .dataframe tbody tr th:only-of-type {\n",
       "        vertical-align: middle;\n",
       "    }\n",
       "\n",
       "    .dataframe tbody tr th {\n",
       "        vertical-align: top;\n",
       "    }\n",
       "\n",
       "    .dataframe thead th {\n",
       "        text-align: right;\n",
       "    }\n",
       "</style>\n",
       "<table border=\"1\" class=\"dataframe\">\n",
       "  <thead>\n",
       "    <tr style=\"text-align: right;\">\n",
       "      <th></th>\n",
       "      <th>Nº</th>\n",
       "      <th>NOME</th>\n",
       "      <th>IDADE</th>\n",
       "      <th>ALTURA</th>\n",
       "      <th>POSIÇÃO</th>\n",
       "      <th>FAIXA ETÁRIA</th>\n",
       "    </tr>\n",
       "  </thead>\n",
       "  <tbody>\n",
       "    <tr>\n",
       "      <th>0</th>\n",
       "      <td>1</td>\n",
       "      <td>Walewska</td>\n",
       "      <td>27</td>\n",
       "      <td>1.90</td>\n",
       "      <td>Meio de rede</td>\n",
       "      <td>Experiente</td>\n",
       "    </tr>\n",
       "    <tr>\n",
       "      <th>1</th>\n",
       "      <td>2</td>\n",
       "      <td>Carol Albuquerque</td>\n",
       "      <td>29</td>\n",
       "      <td>1.82</td>\n",
       "      <td>Levantadora</td>\n",
       "      <td>Experiente</td>\n",
       "    </tr>\n",
       "    <tr>\n",
       "      <th>2</th>\n",
       "      <td>3</td>\n",
       "      <td>Mari</td>\n",
       "      <td>23</td>\n",
       "      <td>1.88</td>\n",
       "      <td>Ponteira</td>\n",
       "      <td>Novata</td>\n",
       "    </tr>\n",
       "    <tr>\n",
       "      <th>3</th>\n",
       "      <td>4</td>\n",
       "      <td>Paula</td>\n",
       "      <td>24</td>\n",
       "      <td>1.84</td>\n",
       "      <td>Ponteira</td>\n",
       "      <td>Novata</td>\n",
       "    </tr>\n",
       "    <tr>\n",
       "      <th>4</th>\n",
       "      <td>5</td>\n",
       "      <td>Carol Gattaz</td>\n",
       "      <td>25</td>\n",
       "      <td>1.92</td>\n",
       "      <td>Meio de rede</td>\n",
       "      <td>Novata</td>\n",
       "    </tr>\n",
       "    <tr>\n",
       "      <th>5</th>\n",
       "      <td>7</td>\n",
       "      <td>Fofão</td>\n",
       "      <td>36</td>\n",
       "      <td>1.73</td>\n",
       "      <td>Levantadora</td>\n",
       "      <td>Experiente</td>\n",
       "    </tr>\n",
       "    <tr>\n",
       "      <th>6</th>\n",
       "      <td>9</td>\n",
       "      <td>Fabiana</td>\n",
       "      <td>21</td>\n",
       "      <td>1.93</td>\n",
       "      <td>Meio de rede</td>\n",
       "      <td>Novata</td>\n",
       "    </tr>\n",
       "    <tr>\n",
       "      <th>7</th>\n",
       "      <td>10</td>\n",
       "      <td>Sassá</td>\n",
       "      <td>24</td>\n",
       "      <td>1.79</td>\n",
       "      <td>Ponteira</td>\n",
       "      <td>Novata</td>\n",
       "    </tr>\n",
       "    <tr>\n",
       "      <th>8</th>\n",
       "      <td>12</td>\n",
       "      <td>Jaque</td>\n",
       "      <td>22</td>\n",
       "      <td>1.86</td>\n",
       "      <td>Ponteira</td>\n",
       "      <td>Novata</td>\n",
       "    </tr>\n",
       "    <tr>\n",
       "      <th>9</th>\n",
       "      <td>13</td>\n",
       "      <td>Sheilla</td>\n",
       "      <td>23</td>\n",
       "      <td>1.85</td>\n",
       "      <td>Oposto</td>\n",
       "      <td>Novata</td>\n",
       "    </tr>\n",
       "    <tr>\n",
       "      <th>10</th>\n",
       "      <td>14</td>\n",
       "      <td>Fabí</td>\n",
       "      <td>26</td>\n",
       "      <td>1.69</td>\n",
       "      <td>Líbero</td>\n",
       "      <td>Experiente</td>\n",
       "    </tr>\n",
       "    <tr>\n",
       "      <th>11</th>\n",
       "      <td>17</td>\n",
       "      <td>Renatinha</td>\n",
       "      <td>25</td>\n",
       "      <td>1.81</td>\n",
       "      <td>Oposto</td>\n",
       "      <td>Novata</td>\n",
       "    </tr>\n",
       "  </tbody>\n",
       "</table>\n",
       "</div>"
      ],
      "text/plain": [
       "    Nº               NOME  IDADE  ALTURA       POSIÇÃO FAIXA ETÁRIA\n",
       "0    1           Walewska     27    1.90  Meio de rede   Experiente\n",
       "1    2  Carol Albuquerque     29    1.82   Levantadora   Experiente\n",
       "2    3               Mari     23    1.88      Ponteira       Novata\n",
       "3    4              Paula     24    1.84      Ponteira       Novata\n",
       "4    5       Carol Gattaz     25    1.92  Meio de rede       Novata\n",
       "5    7              Fofão     36    1.73   Levantadora   Experiente\n",
       "6    9            Fabiana     21    1.93  Meio de rede       Novata\n",
       "7   10              Sassá     24    1.79      Ponteira       Novata\n",
       "8   12              Jaque     22    1.86      Ponteira       Novata\n",
       "9   13            Sheilla     23    1.85        Oposto       Novata\n",
       "10  14               Fabí     26    1.69        Líbero   Experiente\n",
       "11  17          Renatinha     25    1.81        Oposto       Novata"
      ]
     },
     "execution_count": 11,
     "metadata": {},
     "output_type": "execute_result"
    }
   ],
   "source": [
    "#criando coluna para mostrar novatas e experientes(novatas <= 25)\n",
    "import sys\n",
    "\n",
    "mundial_06['FAIXA ETÁRIA']=pd.cut(\n",
    "    mundial_06['IDADE'],\n",
    "    bins=[0, 25, sys.maxsize],\n",
    "    labels=['Novata', 'Experiente']\n",
    "\n",
    ")\n",
    "mundial_06"
   ]
  },
  {
   "cell_type": "code",
   "execution_count": 30,
   "id": "d906e499",
   "metadata": {},
   "outputs": [
    {
     "data": {
      "image/png": "[encoded data removed]",
      "text/plain": [
       "<Figure size 640x480 with 1 Axes>"
      ]
     },
     "metadata": {},
     "output_type": "display_data"
    }
   ],
   "source": [
    "mundial_06['FAIXA ETÁRIA'].value_counts().plot(kind='pie',autopct='%1.1f%%',startangle=190)\n",
    "plt.legend(mundial_06['FAIXA ETÁRIA'].value_counts(), title=\"Qtde em nº\",  bbox_to_anchor=(1, 1))\n",
    "plt.axis('equal')\n",
    "plt.tight_layout()"
   ]
  }
 ],
 "metadata": {
  "kernelspec": {
   "display_name": "Python 3 (ipykernel)",
   "language": "python",
   "name": "python3"
  },
  "language_info": {
   "codemirror_mode": {
    "name": "ipython",
    "version": 3
   },
   "file_extension": ".py",
   "mimetype": "text/x-python",
   "name": "python",
   "nbconvert_exporter": "python",
   "pygments_lexer": "ipython3",
   "version": "3.9.12"
  }
 },
 "nbformat": 4,
 "nbformat_minor": 5
}
